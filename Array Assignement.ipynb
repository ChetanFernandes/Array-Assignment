{
 "cells": [
  {
   "cell_type": "code",
   "execution_count": 4,
   "id": "de323a49-1e49-4b92-96e1-2bdbdb08f5e8",
   "metadata": {},
   "outputs": [
    {
     "name": "stdout",
     "output_type": "stream",
     "text": [
      "True\n"
     ]
    }
   ],
   "source": [
    "# 1. Given an array, check if it contains any duplicates or not. \n",
    "# arr = [1, 2, 4, 2, 5, 9] \n",
    "# Output = True\n",
    "def dup_arr(arr):\n",
    "    n = len(arr)\n",
    "    for i in range(0,n):\n",
    "        if arr[i] in arr:\n",
    "            return \"True\"\n",
    "        else:\n",
    "            return \"False\"\n",
    "\n",
    "        \n",
    "arr = [1, 2, 4, 2, 5, 9] \n",
    "result = dup_arr(arr)\n",
    "print(result)"
   ]
  },
  {
   "cell_type": "code",
   "execution_count": 5,
   "id": "1bc1fa40-ae21-4834-9fbd-dd68b995035e",
   "metadata": {},
   "outputs": [
    {
     "name": "stdout",
     "output_type": "stream",
     "text": [
      "Array after moving right by k times -> [5, 6, 7, 1, 2, 3, 4]\n"
     ]
    }
   ],
   "source": [
    "# 2. Given an array and an integer k, rotate the array to the right by k steps. \n",
    "# arr = [1, 2, 3, 4, 5, 6, 7] k = 3 \n",
    "# Output = [5, 6, 7, 1, 2, 3, 4]\n",
    "def rotate(arr,k):\n",
    "    k = k % len(arr)\n",
    "    n = len(arr)-1\n",
    "    r = n\n",
    "    #Reverse entire array\n",
    "    for i in range(0, len(arr)):\n",
    "        if i < r:\n",
    "            arr[i],arr[r] = arr[r],arr[i]\n",
    "            r-=1\n",
    "    # reverse first K elements\n",
    "    r = k-1\n",
    "    for i in range(0,k-1):\n",
    "        if i < r:\n",
    "            arr[i],arr[r] = arr[r],arr[i]\n",
    "            r-=1\n",
    "    # reverse last (n-k) elements\n",
    "    r = n\n",
    "    for i in range(n-k,n):\n",
    "        if i < r:\n",
    "            arr[i],arr[r] = arr[r],arr[i]\n",
    "            r-=1\n",
    "    print(\"Array after moving right by k times ->\",arr)\n",
    "        \n",
    "arr = [1, 2, 3, 4, 5, 6, 7] \n",
    "k = 3\n",
    "rotate(arr,k)"
   ]
  },
  {
   "cell_type": "code",
   "execution_count": 6,
   "id": "3d67adfb-ddc2-4016-b318-3d170347cfce",
   "metadata": {},
   "outputs": [
    {
     "name": "stdout",
     "output_type": "stream",
     "text": [
      "Array after reversing-> [12, 9, 7, 5, 4, 2]\n"
     ]
    }
   ],
   "source": [
    "# 3. Reverse the given array in-place, means without using any extra data structure.\n",
    "#arr = [2, 4, 5, 7, 9, 12]\n",
    "#Output = [12, 9, 7, 5, 4, 2]\n",
    "def reverse(x):\n",
    "    n = len(arr)\n",
    "    r = n-1\n",
    "    for i in range(0,n-1):\n",
    "        if i < r:\n",
    "            arr[i],arr[r] = arr[r],arr[i]\n",
    "            r-=1\n",
    "    print(\"Array after reversing->\",arr)\n",
    "        \n",
    "arr = [2,4,5,7,9,12] \n",
    "reverse(arr)"
   ]
  },
  {
   "cell_type": "code",
   "execution_count": 7,
   "id": "492882da-ff5c-47b3-8a61-84fd276a7464",
   "metadata": {},
   "outputs": [
    {
     "name": "stdout",
     "output_type": "stream",
     "text": [
      "Greatest Number: 20\n"
     ]
    }
   ],
   "source": [
    "# Question 4\n",
    "# Find the Maximum elemnet in the array\n",
    "# Given an array of integers, find the maximum element in an array\n",
    "# arr = [10, 5, 20, 8, 15]\n",
    "# Output = 20\n",
    "\n",
    "def maximum(arr):\n",
    "    max1 = arr[0]\n",
    "    r = 1\n",
    "    for i in range(0,len(arr)):\n",
    "        if i < r and r < len(arr) and arr[r] > arr[i] and arr[r] > max1:\n",
    "                max1 = arr[r]\n",
    "                r+=1\n",
    "        else:\n",
    "                r+=1\n",
    "       \n",
    "    return max1\n",
    "            \n",
    "arr = [10, 5, 20, 8, 15]\n",
    "result = maximum(arr)\n",
    "print(\"Greatest Number:\", result)"
   ]
  },
  {
   "cell_type": "code",
   "execution_count": 9,
   "id": "7ccac723-4843-4db8-8617-449db4d05013",
   "metadata": {},
   "outputs": [
    {
     "name": "stdout",
     "output_type": "stream",
     "text": [
      "[1, 2, 3, 4, 5]\n"
     ]
    }
   ],
   "source": [
    "#5. Given a sorted array, remove the duplicate element without using any extra data structure.\n",
    "#arr = [1, 1, 2, 2, 2, 3, 3, 4, 4, 4, 5, 5]\n",
    "#Output = [1, 2, 3, 4, 5]\n",
    "def duplicates(arr):\n",
    "    l=1\n",
    "    for i in range(1,len(arr)):\n",
    "        if arr[i] != arr[i-1]:\n",
    "            arr[l] = arr[i]\n",
    "            l+=1\n",
    "    return arr[:l:]\n",
    "        \n",
    "               \n",
    "arr = [1, 1, 2, 2, 2, 3, 3, 4, 4, 4, 5, 5]\n",
    "result = duplicates(arr)\n",
    "print(result)"
   ]
  }
 ],
 "metadata": {
  "kernelspec": {
   "display_name": "Python 3 (ipykernel)",
   "language": "python",
   "name": "python3"
  },
  "language_info": {
   "codemirror_mode": {
    "name": "ipython",
    "version": 3
   },
   "file_extension": ".py",
   "mimetype": "text/x-python",
   "name": "python",
   "nbconvert_exporter": "python",
   "pygments_lexer": "ipython3",
   "version": "3.10.8"
  }
 },
 "nbformat": 4,
 "nbformat_minor": 5
}
